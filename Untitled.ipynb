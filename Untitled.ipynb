{
 "cells": [
  {
   "cell_type": "code",
   "execution_count": null,
   "id": "d90bfa91-fa2e-46c3-9777-371ff42ba249",
   "metadata": {},
   "outputs": [],
   "source": []
  },
  {
   "cell_type": "code",
   "execution_count": 1,
   "id": "45149418-51e2-44b7-81ee-03d404db5cd2",
   "metadata": {},
   "outputs": [
    {
     "name": "stdout",
     "output_type": "stream",
     "text": [
      "Kích thước dữ liệu: (305, 6)\n"
     ]
    },
    {
     "data": {
      "text/html": [
       "<div>\n",
       "<style scoped>\n",
       "    .dataframe tbody tr th:only-of-type {\n",
       "        vertical-align: middle;\n",
       "    }\n",
       "\n",
       "    .dataframe tbody tr th {\n",
       "        vertical-align: top;\n",
       "    }\n",
       "\n",
       "    .dataframe thead th {\n",
       "        text-align: right;\n",
       "    }\n",
       "</style>\n",
       "<table border=\"1\" class=\"dataframe\">\n",
       "  <thead>\n",
       "    <tr style=\"text-align: right;\">\n",
       "      <th></th>\n",
       "      <th>Hours_Study</th>\n",
       "      <th>Grade</th>\n",
       "      <th>Previous Scores</th>\n",
       "      <th>Extracurricular Activities</th>\n",
       "      <th>sleep hous</th>\n",
       "      <th>Sample Question Papers Practiced</th>\n",
       "    </tr>\n",
       "  </thead>\n",
       "  <tbody>\n",
       "    <tr>\n",
       "      <th>0</th>\n",
       "      <td>3.458685</td>\n",
       "      <td>TrungBinh</td>\n",
       "      <td>99</td>\n",
       "      <td>Yes</td>\n",
       "      <td>NaN</td>\n",
       "      <td>1</td>\n",
       "    </tr>\n",
       "    <tr>\n",
       "      <th>1</th>\n",
       "      <td>3.366724</td>\n",
       "      <td>TrungBinh</td>\n",
       "      <td>82</td>\n",
       "      <td>No</td>\n",
       "      <td>4.0</td>\n",
       "      <td>2</td>\n",
       "    </tr>\n",
       "    <tr>\n",
       "      <th>2</th>\n",
       "      <td>4.755245</td>\n",
       "      <td>Kha</td>\n",
       "      <td>51</td>\n",
       "      <td>Yes</td>\n",
       "      <td>7.0</td>\n",
       "      <td>2</td>\n",
       "    </tr>\n",
       "    <tr>\n",
       "      <th>3</th>\n",
       "      <td>8.328479</td>\n",
       "      <td>Gioi</td>\n",
       "      <td>52</td>\n",
       "      <td>Yes</td>\n",
       "      <td>5.0</td>\n",
       "      <td>2</td>\n",
       "    </tr>\n",
       "    <tr>\n",
       "      <th>4</th>\n",
       "      <td>3.291235</td>\n",
       "      <td>TrungBinh</td>\n",
       "      <td>75</td>\n",
       "      <td>No</td>\n",
       "      <td>8.0</td>\n",
       "      <td>5</td>\n",
       "    </tr>\n",
       "  </tbody>\n",
       "</table>\n",
       "</div>"
      ],
      "text/plain": [
       "   Hours_Study      Grade  Previous Scores Extracurricular Activities  \\\n",
       "0     3.458685  TrungBinh               99                        Yes   \n",
       "1     3.366724  TrungBinh               82                         No   \n",
       "2     4.755245        Kha               51                        Yes   \n",
       "3     8.328479       Gioi               52                        Yes   \n",
       "4     3.291235  TrungBinh               75                         No   \n",
       "\n",
       "   sleep hous  Sample Question Papers Practiced  \n",
       "0         NaN                                 1  \n",
       "1         4.0                                 2  \n",
       "2         7.0                                 2  \n",
       "3         5.0                                 2  \n",
       "4         8.0                                 5  "
      ]
     },
     "metadata": {},
     "output_type": "display_data"
    }
   ],
   "source": [
    "\n",
    "import pandas as pd\n",
    "import numpy as np\n",
    "import matplotlib.pyplot as plt\n",
    "import seaborn as sns\n",
    "import pandas as pd\n",
    "from sklearn.model_selection import train_test_split\n",
    "from sklearn.ensemble import RandomForestClassifier\n",
    "from sklearn.metrics import accuracy_score, classification_report, confusion_matrix, ConfusionMatrixDisplay\n",
    "import matplotlib.pyplot as plt\n",
    "\n",
    "from sklearn.model_selection import train_test_split, cross_val_score, GridSearchCV\n",
    "from sklearn.preprocessing import LabelEncoder, StandardScaler\n",
    "from sklearn.linear_model import LogisticRegression\n",
    "from sklearn.ensemble import RandomForestClassifier\n",
    "from sklearn.metrics import accuracy_score, classification_report, confusion_matrix, ConfusionMatrixDisplay\n",
    "import joblib\n",
    "\n",
    "# Đọc dữ liệu\n",
    "df = pd.read_csv('students.csv')\n",
    "print(\"Kích thước dữ liệu:\", df.shape)\n",
    "display(df.head())\n"
   ]
  },
  {
   "cell_type": "code",
   "execution_count": 2,
   "id": "38401124-9866-47e7-8b7e-d5823616f111",
   "metadata": {},
   "outputs": [
    {
     "name": "stdout",
     "output_type": "stream",
     "text": [
      "<class 'pandas.core.frame.DataFrame'>\n",
      "RangeIndex: 305 entries, 0 to 304\n",
      "Data columns (total 6 columns):\n",
      " #   Column                            Non-Null Count  Dtype  \n",
      "---  ------                            --------------  -----  \n",
      " 0   Hours_Study                       300 non-null    float64\n",
      " 1   Grade                             300 non-null    object \n",
      " 2   Previous Scores                   305 non-null    int64  \n",
      " 3   Extracurricular Activities        305 non-null    object \n",
      " 4   sleep hous                        304 non-null    float64\n",
      " 5   Sample Question Papers Practiced  305 non-null    int64  \n",
      "dtypes: float64(2), int64(2), object(2)\n",
      "memory usage: 14.4+ KB\n",
      "None\n",
      "\n",
      "Thống kê mô tả:\n"
     ]
    },
    {
     "data": {
      "text/html": [
       "<div>\n",
       "<style scoped>\n",
       "    .dataframe tbody tr th:only-of-type {\n",
       "        vertical-align: middle;\n",
       "    }\n",
       "\n",
       "    .dataframe tbody tr th {\n",
       "        vertical-align: top;\n",
       "    }\n",
       "\n",
       "    .dataframe thead th {\n",
       "        text-align: right;\n",
       "    }\n",
       "</style>\n",
       "<table border=\"1\" class=\"dataframe\">\n",
       "  <thead>\n",
       "    <tr style=\"text-align: right;\">\n",
       "      <th></th>\n",
       "      <th>Hours_Study</th>\n",
       "      <th>Previous Scores</th>\n",
       "      <th>sleep hous</th>\n",
       "      <th>Sample Question Papers Practiced</th>\n",
       "    </tr>\n",
       "  </thead>\n",
       "  <tbody>\n",
       "    <tr>\n",
       "      <th>count</th>\n",
       "      <td>300.000000</td>\n",
       "      <td>305.000000</td>\n",
       "      <td>304.000000</td>\n",
       "      <td>305.000000</td>\n",
       "    </tr>\n",
       "    <tr>\n",
       "      <th>mean</th>\n",
       "      <td>5.529466</td>\n",
       "      <td>69.862295</td>\n",
       "      <td>6.404605</td>\n",
       "      <td>4.259016</td>\n",
       "    </tr>\n",
       "    <tr>\n",
       "      <th>std</th>\n",
       "      <td>2.248703</td>\n",
       "      <td>17.009886</td>\n",
       "      <td>1.743667</td>\n",
       "      <td>2.765232</td>\n",
       "    </tr>\n",
       "    <tr>\n",
       "      <th>min</th>\n",
       "      <td>1.059185</td>\n",
       "      <td>40.000000</td>\n",
       "      <td>4.000000</td>\n",
       "      <td>0.000000</td>\n",
       "    </tr>\n",
       "    <tr>\n",
       "      <th>25%</th>\n",
       "      <td>3.366229</td>\n",
       "      <td>55.000000</td>\n",
       "      <td>5.000000</td>\n",
       "      <td>2.000000</td>\n",
       "    </tr>\n",
       "    <tr>\n",
       "      <th>50%</th>\n",
       "      <td>5.524655</td>\n",
       "      <td>70.000000</td>\n",
       "      <td>6.000000</td>\n",
       "      <td>4.000000</td>\n",
       "    </tr>\n",
       "    <tr>\n",
       "      <th>75%</th>\n",
       "      <td>7.550529</td>\n",
       "      <td>85.000000</td>\n",
       "      <td>8.000000</td>\n",
       "      <td>6.000000</td>\n",
       "    </tr>\n",
       "    <tr>\n",
       "      <th>max</th>\n",
       "      <td>9.815804</td>\n",
       "      <td>99.000000</td>\n",
       "      <td>9.000000</td>\n",
       "      <td>9.000000</td>\n",
       "    </tr>\n",
       "  </tbody>\n",
       "</table>\n",
       "</div>"
      ],
      "text/plain": [
       "       Hours_Study  Previous Scores  sleep hous  \\\n",
       "count   300.000000       305.000000  304.000000   \n",
       "mean      5.529466        69.862295    6.404605   \n",
       "std       2.248703        17.009886    1.743667   \n",
       "min       1.059185        40.000000    4.000000   \n",
       "25%       3.366229        55.000000    5.000000   \n",
       "50%       5.524655        70.000000    6.000000   \n",
       "75%       7.550529        85.000000    8.000000   \n",
       "max       9.815804        99.000000    9.000000   \n",
       "\n",
       "       Sample Question Papers Practiced  \n",
       "count                        305.000000  \n",
       "mean                           4.259016  \n",
       "std                            2.765232  \n",
       "min                            0.000000  \n",
       "25%                            2.000000  \n",
       "50%                            4.000000  \n",
       "75%                            6.000000  \n",
       "max                            9.000000  "
      ]
     },
     "metadata": {},
     "output_type": "display_data"
    },
    {
     "name": "stdout",
     "output_type": "stream",
     "text": [
      "\n",
      "Số lượng từng lớp:\n",
      "Grade\n",
      "TrungBinh    100\n",
      "Kha          100\n",
      "Gioi         100\n",
      "Name: count, dtype: int64\n"
     ]
    },
    {
     "data": {
      "image/png": "[encoded data removed]",
      "text/plain": [
       "<Figure size 800x400 with 1 Axes>"
      ]
     },
     "metadata": {},
     "output_type": "display_data"
    },
    {
     "data": {
      "image/png": "[encoded data removed]",
      "text/plain": [
       "<Figure size 600x400 with 1 Axes>"
      ]
     },
     "metadata": {},
     "output_type": "display_data"
    },
    {
     "data": {
      "image/png": "[encoded data removed]",
      "text/plain": [
       "<Figure size 600x300 with 1 Axes>"
      ]
     },
     "metadata": {},
     "output_type": "display_data"
    }
   ],
   "source": [
    "\n",
    "# Cell 2: EDA cơ bản\n",
    "print(df.info())\n",
    "print(\"\\nThống kê mô tả:\")\n",
    "display(df.describe())\n",
    "\n",
    "print(\"\\nSố lượng từng lớp:\")\n",
    "print(df['Grade'].value_counts())\n",
    "\n",
    "\n",
    "# Biểu đồ phân phối Hours_Study\n",
    "plt.figure(figsize=(8,4))\n",
    "sns.histplot(df['Hours_Study'], kde=True)\n",
    "plt.title('Phân phối số giờ học')\n",
    "plt.xlabel('Hours_Study')\n",
    "plt.show()\n",
    "\n",
    "# Boxplot Hours theo Grade\n",
    "plt.figure(figsize=(6,4))\n",
    "sns.boxplot(x='Grade', y='Hours_Study', data=df, order=['TrungBinh','Kha','Gioi'])\n",
    "plt.title('Hours_Study theo Grade')\n",
    "plt.show()\n",
    "\n",
    "# Countplot lớp\n",
    "plt.figure(figsize=(6,3))\n",
    "sns.countplot(x='Grade', data=df, order=['TrungBinh','Kha','Gioi'])\n",
    "plt.show()\n"
   ]
  },
  {
   "cell_type": "code",
   "execution_count": 3,
   "id": "b8885bf1-cb8d-4930-84f3-6f6bfaf2697e",
   "metadata": {},
   "outputs": [
    {
     "name": "stdout",
     "output_type": "stream",
     "text": [
      "Mapping label -> số: {'Gioi': np.int64(0), 'Kha': np.int64(1), 'TrungBinh': np.int64(2), nan: np.int64(3)}\n"
     ]
    }
   ],
   "source": [
    "# Cell 3: Tiền xử lý\n",
    "X = df[['Hours_Study']].values  # dạng 2D\n",
    "y = df['Grade'].values\n",
    "\n",
    "# Chuyển nhãn chữ sang số\n",
    "le = LabelEncoder()\n",
    "y_encoded = le.fit_transform(y)\n",
    "print(\"Mapping label -> số:\", dict(zip(le.classes_, le.transform(le.classes_))))\n",
    "\n",
    "# Chuẩn hóa feature (rất quan trọng cho 1 số mô hình như Logistic, SVM)\n",
    "scaler = StandardScaler()\n",
    "X_scaled = scaler.fit_transform(X)\n",
    "\n"
   ]
  },
  {
   "cell_type": "code",
   "execution_count": 4,
   "id": "29bc6acc-0f29-4398-8f7f-747d5517e426",
   "metadata": {},
   "outputs": [
    {
     "name": "stdout",
     "output_type": "stream",
     "text": [
      "Train size: 244 Test size: 61\n"
     ]
    }
   ],
   "source": [
    "# Cell 4: chia tập\n",
    "X_train, X_test, y_train, y_test = train_test_split(\n",
    "    X_scaled, y_encoded, test_size=0.2, random_state=42, stratify=y_encoded\n",
    ")\n",
    "print(\"Train size:\", X_train.shape[0], \"Test size:\", X_test.shape[0])\n"
   ]
  },
  {
   "cell_type": "code",
   "execution_count": 5,
   "id": "109408c3-9c30-4a65-b5c0-5f1813ce6862",
   "metadata": {
    "scrolled": true
   },
   "outputs": [
    {
     "name": "stdout",
     "output_type": "stream",
     "text": [
      " Độ Chinh Xac: 0.8688524590163934\n",
      "\n",
      " phân loại của mô hình Hồi quy Logistic:\n",
      "              Độ chính xác (Precision)  Độ bao phủ (Recall)   Điểm F1  \\\n",
      "Gioi                          0.900000             0.900000  0.900000   \n",
      "Kha                           0.833333             0.750000  0.789474   \n",
      "TrungBinh                     0.869565             1.000000  0.930233   \n",
      "NaN                           0.000000             0.000000  0.000000   \n",
      "accuracy                      0.868852             0.868852  0.868852   \n",
      "macro avg                     0.650725             0.662500  0.654927   \n",
      "weighted avg                  0.853409             0.868852  0.858920   \n",
      "\n",
      "              Số mẫu (Support)  \n",
      "Gioi                 20.000000  \n",
      "Kha                  20.000000  \n",
      "TrungBinh            20.000000  \n",
      "NaN                   1.000000  \n",
      "accuracy              0.868852  \n",
      "macro avg            61.000000  \n",
      "weighted avg         61.000000  \n"
     ]
    },
    {
     "name": "stderr",
     "output_type": "stream",
     "text": [
      "C:\\Users\\HIEU\\anaconda3\\Lib\\site-packages\\sklearn\\metrics\\_classification.py:1565: UndefinedMetricWarning: Precision is ill-defined and being set to 0.0 in labels with no predicted samples. Use `zero_division` parameter to control this behavior.\n",
      "  _warn_prf(average, modifier, f\"{metric.capitalize()} is\", len(result))\n",
      "C:\\Users\\HIEU\\anaconda3\\Lib\\site-packages\\sklearn\\metrics\\_classification.py:1565: UndefinedMetricWarning: Precision is ill-defined and being set to 0.0 in labels with no predicted samples. Use `zero_division` parameter to control this behavior.\n",
      "  _warn_prf(average, modifier, f\"{metric.capitalize()} is\", len(result))\n",
      "C:\\Users\\HIEU\\anaconda3\\Lib\\site-packages\\sklearn\\metrics\\_classification.py:1565: UndefinedMetricWarning: Precision is ill-defined and being set to 0.0 in labels with no predicted samples. Use `zero_division` parameter to control this behavior.\n",
      "  _warn_prf(average, modifier, f\"{metric.capitalize()} is\", len(result))\n"
     ]
    },
    {
     "data": {
      "image/png": "[encoded data removed]",
      "text/plain": [
       "<Figure size 640x480 with 2 Axes>"
      ]
     },
     "metadata": {},
     "output_type": "display_data"
    }
   ],
   "source": [
    "# Logistic Regression\n",
    "from sklearn.impute import SimpleImputer\n",
    "\n",
    "# --- Thêm đoạn này trước khi train ---\n",
    "imputer = SimpleImputer(strategy='mean')   # điền NaN bằng giá trị trung bình mỗi cột\n",
    "X_train = imputer.fit_transform(X_train)\n",
    "X_test = imputer.transform(X_test)\n",
    "\n",
    "# --- Giữ nguyên phần train ---\n",
    "model_lr = LogisticRegression(solver='lbfgs', max_iter=1000, random_state=42)\n",
    "model_lr.fit(X_train, y_train)\n",
    "\n",
    "\n",
    "y_pred_lr = model_lr.predict(X_test)\n",
    "print(\" Độ Chinh Xac:\", accuracy_score(y_test, y_pred_lr))\n",
    "print(\"\\n phân loại của mô hình Hồi quy Logistic:\")\n",
    "from sklearn.metrics import classification_report\n",
    "import pandas as pd\n",
    "\n",
    "report = classification_report(y_test, y_pred_lr, target_names=le.classes_, output_dict=True)\n",
    "df_report = pd.DataFrame(report).transpose()\n",
    "\n",
    "# Đổi tên cột sang tiếng Việt\n",
    "df_report.columns = ['Độ chính xác (Precision)', 'Độ bao phủ (Recall)', 'Điểm F1', 'Số mẫu (Support)']\n",
    "\n",
    "print(df_report)\n",
    "\n",
    "\n",
    "# Confusion matrix\n",
    "cm = confusion_matrix(y_test, y_pred_lr)\n",
    "disp = ConfusionMatrixDisplay(confusion_matrix=cm, display_labels=le.classes_)\n",
    "disp.plot(cmap='Blues')\n",
    "plt.title('Ma Tran Nham Lan')\n",
    "plt.show()\n"
   ]
  },
  {
   "cell_type": "code",
   "execution_count": 10,
   "id": "11c8cd41-5b7f-4ec4-bab7-3961e7645591",
   "metadata": {
    "scrolled": true
   },
   "outputs": [
    {
     "name": "stdout",
     "output_type": "stream",
     "text": [
      "🎯 Độ Chính Xác: 0.8688524590163934\n",
      "\n",
      "📋 Classification Report:\n",
      "              precision    recall  f1-score   support\n",
      "\n",
      "           0       0.94      0.80      0.86        20\n",
      "           1       0.71      0.80      0.75        15\n",
      "           2       0.92      0.96      0.94        25\n",
      "           3       1.00      1.00      1.00         1\n",
      "\n",
      "    accuracy                           0.87        61\n",
      "   macro avg       0.89      0.89      0.89        61\n",
      "weighted avg       0.88      0.87      0.87        61\n",
      "\n"
     ]
    },
    {
     "data": {
      "image/png": "[encoded data removed]",
      "text/plain": [
       "<Figure size 640x480 with 2 Axes>"
      ]
     },
     "metadata": {},
     "output_type": "display_data"
    },
    {
     "name": "stdout",
     "output_type": "stream",
     "text": [
      "🔍 Số lượng NaN trong X_imputed: 0\n"
     ]
    }
   ],
   "source": [
    "  "
   ]
  },
  {
   "cell_type": "code",
   "execution_count": 6,
   "id": "d56ab776-9bc8-4c95-9f87-13e76d64c901",
   "metadata": {},
   "outputs": [
    {
     "name": "stdout",
     "output_type": "stream",
     "text": [
      "Số lượng NaN trong X_scaled: 0\n"
     ]
    }
   ],
   "source": [
    "# Cell 7: Cross-validation (5-fold) trên toàn dataset\n",
    "from sklearn.impute import SimpleImputer\n",
    "from sklearn.preprocessing import LabelEncoder\n",
    "\n",
    "imputer = SimpleImputer(strategy='mean')\n",
    "X_scaled = imputer.fit_transform(X_scaled)\n",
    "\n",
    "le = LabelEncoder()\n",
    "y_encoded = le.fit_transform(y)  # nếu chưa có\n",
    "\n",
    "print(\"Số lượng NaN trong X_scaled:\", np.isnan(X_scaled).sum())\n"
   ]
  },
  {
   "cell_type": "code",
   "execution_count": 7,
   "id": "607e1391-2398-4c65-972d-cdf171dab97b",
   "metadata": {},
   "outputs": [
    {
     "name": "stdout",
     "output_type": "stream",
     "text": [
      "Best params: {'max_depth': 3, 'n_estimators': 100}\n",
      "Accuracy (best RF): 0.9016393442622951\n",
      "              precision    recall  f1-score   support\n",
      "\n",
      "        Gioi       0.87      1.00      0.93        20\n",
      "         Kha       0.94      0.75      0.83        20\n",
      "   TrungBinh       0.91      1.00      0.95        20\n",
      "         nan       0.00      0.00      0.00         1\n",
      "\n",
      "    accuracy                           0.90        61\n",
      "   macro avg       0.68      0.69      0.68        61\n",
      "weighted avg       0.89      0.90      0.89        61\n",
      "\n"
     ]
    }
   ],
   "source": [
    "# Cell 8: GridSearchCV ví dụ cho RandomForest (chạy có thể lâu)\n",
    "param_grid = {\n",
    "    'n_estimators': [50, 100, 200],\n",
    "    'max_depth': [None, 3, 5]\n",
    "}\n",
    "grid = GridSearchCV(RandomForestClassifier(random_state=42), param_grid, cv=4, scoring='accuracy', n_jobs=-1)\n",
    "grid.fit(X_train, y_train)\n",
    "\n",
    "print(\"Best params:\", grid.best_params_)\n",
    "best_rf = grid.best_estimator_\n",
    "\n",
    "# Đánh giá best model trên test\n",
    "y_pred_best = best_rf.predict(X_test)\n",
    "print(\"Accuracy (best RF):\", accuracy_score(y_test, y_pred_best))\n",
    "print(classification_report(\n",
    "    y_test,\n",
    "    y_pred_best,\n",
    "    target_names=[str(c) for c in le.classes_],\n",
    "    zero_division=0\n",
    "))\n"
   ]
  },
  {
   "cell_type": "code",
   "execution_count": 8,
   "id": "8f0cf60a-4574-4180-ba62-97ab2dd7340c",
   "metadata": {},
   "outputs": [
    {
     "name": "stdout",
     "output_type": "stream",
     "text": [
      "Đã lưu model vào student_model_v1.pkl\n"
     ]
    }
   ],
   "source": [
    "# Cell 9: lưu mô hình, scaler và label encoder\n",
    "model_to_save = {\n",
    "    'model': best_rf if 'best_rf' in globals() else rf,\n",
    "    'scaler': scaler,\n",
    "    'label_encoder': le\n",
    "}\n",
    "joblib.dump(model_to_save, 'student_model_v1.pkl')\n",
    "print(\"Đã lưu model vào student_model_v1.pkl\")\n",
    "\n",
    "# Load ví dụ:\n",
    "data = joblib.load('student_model_v1.pkl')\n",
    "model_loaded = data['model']\n",
    "scaler_loaded = data['scaler']\n",
    "le_loaded = data['label_encoder']\n"
   ]
  },
  {
   "cell_type": "code",
   "execution_count": null,
   "id": "bb7836d0-fe58-44d7-8ba6-d8ec52dced3b",
   "metadata": {},
   "outputs": [],
   "source": []
  },
  {
   "cell_type": "code",
   "execution_count": 9,
   "id": "4bf715b0-efeb-468a-9293-d44c62002fb2",
   "metadata": {},
   "outputs": [
    {
     "name": "stdout",
     "output_type": "stream",
     "text": [
      "Dữ liệu gốc (chưa chuẩn hóa):\n"
     ]
    },
    {
     "data": {
      "text/html": [
       "<div>\n",
       "<style scoped>\n",
       "    .dataframe tbody tr th:only-of-type {\n",
       "        vertical-align: middle;\n",
       "    }\n",
       "\n",
       "    .dataframe tbody tr th {\n",
       "        vertical-align: top;\n",
       "    }\n",
       "\n",
       "    .dataframe thead th {\n",
       "        text-align: right;\n",
       "    }\n",
       "</style>\n",
       "<table border=\"1\" class=\"dataframe\">\n",
       "  <thead>\n",
       "    <tr style=\"text-align: right;\">\n",
       "      <th></th>\n",
       "      <th>Hours_Study</th>\n",
       "    </tr>\n",
       "  </thead>\n",
       "  <tbody>\n",
       "    <tr>\n",
       "      <th>0</th>\n",
       "      <td>3.458685</td>\n",
       "    </tr>\n",
       "    <tr>\n",
       "      <th>1</th>\n",
       "      <td>3.366724</td>\n",
       "    </tr>\n",
       "    <tr>\n",
       "      <th>2</th>\n",
       "      <td>4.755245</td>\n",
       "    </tr>\n",
       "    <tr>\n",
       "      <th>3</th>\n",
       "      <td>8.328479</td>\n",
       "    </tr>\n",
       "    <tr>\n",
       "      <th>4</th>\n",
       "      <td>3.291235</td>\n",
       "    </tr>\n",
       "  </tbody>\n",
       "</table>\n",
       "</div>"
      ],
      "text/plain": [
       "   Hours_Study\n",
       "0     3.458685\n",
       "1     3.366724\n",
       "2     4.755245\n",
       "3     8.328479\n",
       "4     3.291235"
      ]
     },
     "metadata": {},
     "output_type": "display_data"
    },
    {
     "name": "stdout",
     "output_type": "stream",
     "text": [
      " Dữ liệu sau khi chuẩn hóa:\n"
     ]
    },
    {
     "data": {
      "text/html": [
       "<div>\n",
       "<style scoped>\n",
       "    .dataframe tbody tr th:only-of-type {\n",
       "        vertical-align: middle;\n",
       "    }\n",
       "\n",
       "    .dataframe tbody tr th {\n",
       "        vertical-align: top;\n",
       "    }\n",
       "\n",
       "    .dataframe thead th {\n",
       "        text-align: right;\n",
       "    }\n",
       "</style>\n",
       "<table border=\"1\" class=\"dataframe\">\n",
       "  <thead>\n",
       "    <tr style=\"text-align: right;\">\n",
       "      <th></th>\n",
       "      <th>Hours_Study</th>\n",
       "      <th>Hours_Study_Scaled</th>\n",
       "    </tr>\n",
       "  </thead>\n",
       "  <tbody>\n",
       "    <tr>\n",
       "      <th>0</th>\n",
       "      <td>3.458685</td>\n",
       "      <td>-0.922417</td>\n",
       "    </tr>\n",
       "    <tr>\n",
       "      <th>1</th>\n",
       "      <td>3.366724</td>\n",
       "      <td>-0.963380</td>\n",
       "    </tr>\n",
       "    <tr>\n",
       "      <th>2</th>\n",
       "      <td>4.755245</td>\n",
       "      <td>-0.344872</td>\n",
       "    </tr>\n",
       "    <tr>\n",
       "      <th>3</th>\n",
       "      <td>8.328479</td>\n",
       "      <td>1.246803</td>\n",
       "    </tr>\n",
       "    <tr>\n",
       "      <th>4</th>\n",
       "      <td>3.291235</td>\n",
       "      <td>-0.997006</td>\n",
       "    </tr>\n",
       "    <tr>\n",
       "      <th>5</th>\n",
       "      <td>3.109555</td>\n",
       "      <td>-1.077934</td>\n",
       "    </tr>\n",
       "    <tr>\n",
       "      <th>6</th>\n",
       "      <td>6.271791</td>\n",
       "      <td>0.330664</td>\n",
       "    </tr>\n",
       "    <tr>\n",
       "      <th>7</th>\n",
       "      <td>6.980515</td>\n",
       "      <td>0.646361</td>\n",
       "    </tr>\n",
       "    <tr>\n",
       "      <th>8</th>\n",
       "      <td>7.218178</td>\n",
       "      <td>0.752226</td>\n",
       "    </tr>\n",
       "    <tr>\n",
       "      <th>9</th>\n",
       "      <td>6.181595</td>\n",
       "      <td>0.290487</td>\n",
       "    </tr>\n",
       "  </tbody>\n",
       "</table>\n",
       "</div>"
      ],
      "text/plain": [
       "   Hours_Study  Hours_Study_Scaled\n",
       "0     3.458685           -0.922417\n",
       "1     3.366724           -0.963380\n",
       "2     4.755245           -0.344872\n",
       "3     8.328479            1.246803\n",
       "4     3.291235           -0.997006\n",
       "5     3.109555           -1.077934\n",
       "6     6.271791            0.330664\n",
       "7     6.980515            0.646361\n",
       "8     7.218178            0.752226\n",
       "9     6.181595            0.290487"
      ]
     },
     "metadata": {},
     "output_type": "display_data"
    },
    {
     "name": "stdout",
     "output_type": "stream",
     "text": [
      "Mean sau chuẩn hóa: -9.62193288008469e-18\n",
      "Std sau chuẩn hóa: 1.0016708449412668\n"
     ]
    }
   ],
   "source": [
    " from sklearn.preprocessing import StandardScaler\n",
    "import pandas as pd\n",
    "\n",
    "# Giả sử bạn đã có DataFrame df\n",
    "print(\"Dữ liệu gốc (chưa chuẩn hóa):\")\n",
    "display(df[['Hours_Study']].head())\n",
    "\n",
    "# Tạo đối tượng scaler\n",
    "scaler = StandardScaler()\n",
    "\n",
    "# Huấn luyện và biến đổi cột Hours_Study\n",
    "df['Hours_Study_Scaled'] = scaler.fit_transform(df[['Hours_Study']])\n",
    "\n",
    "# In kết uả để so sánh\n",
    "print(\" Dữ liệu sau khi chuẩn hóa:\")\n",
    "display(df[['Hours_Study', 'Hours_Study_Scaled']].head(10))\n",
    "\n",
    "# Kiểm tra lại giá trị trung bình và độ lệch chuẩn\n",
    "print(\"Mean sau chuẩn hóa:\", df['Hours_Study_Scaled'].mean())\n",
    "print(\"Std sau chuẩn hóa:\", df['Hours_Study_Scaled'].std())\n"
   ]
  },
  {
   "cell_type": "code",
   "execution_count": 10,
   "id": "0f1cf205-c14c-4e52-82cb-e040e1f7261c",
   "metadata": {},
   "outputs": [
    {
     "data": {
      "image/png": "[encoded data removed]",
      "text/plain": [
       "<Figure size 1000x400 with 2 Axes>"
      ]
     },
     "metadata": {},
     "output_type": "display_data"
    }
   ],
   "source": [
    "import matplotlib.pyplot as plt\n",
    "import seaborn as sns\n",
    "\n",
    "fig, ax = plt.subplots(1, 2, figsize=(10, 4))\n",
    "\n",
    "sns.histplot(df['Hours_Study'], kde=True, ax=ax[0], color='skyblue')\n",
    "ax[0].set_title(\"Trước chuẩn hóa\")\n",
    "\n",
    "sns.histplot(df['Hours_Study_Scaled'], kde=True, ax=ax[1], color='orange')\n",
    "ax[1].set_title(\"Sau chuẩn hóa (StandardScaler)\")\n",
    "\n",
    "plt.show()\n"
   ]
  },
  {
   "cell_type": "code",
   "execution_count": 11,
   "id": "fc34389d-d2ab-41d0-8af4-a78a73c7b4c0",
   "metadata": {},
   "outputs": [
    {
     "name": "stdout",
     "output_type": "stream",
     "text": [
      "số giờ  học sinh học mỗi ngày-> Dự đoán:\n",
      "10.0 giờ/ngày -> Gioi\n",
      "3.4 giờ/ngày -> TrungBinh\n",
      "3.2 giờ/ngày -> TrungBinh\n"
     ]
    }
   ],
   "source": [
    "# Cell 10: Dự đoán cho học sinh mới (nhập số giờ)\n",
    "new_hours = [[10.0], [3.4], [3.2]]  # ví dụ nhiều mẫu\n",
    "new_scaled = scaler_loaded.transform(new_hours)\n",
    "preds = model_loaded.predict(new_scaled)\n",
    "print(\"số giờ  học sinh học mỗi ngày-> Dự đoán:\")\n",
    "for h, p in zip(new_hours, preds):\n",
    "    print(f\"{h[0]} giờ/ngày -> {le_loaded.inverse_transform([p])[0]}\")"
   ]
  },
  {
   "cell_type": "code",
   "execution_count": null,
   "id": "f75f2f04-80b6-4224-a6c6-4b9d2cb33bdd",
   "metadata": {},
   "outputs": [],
   "source": [
    "import numpy as np\n",
    "import pandas as pd\n",
    "\n",
    "# --- Dự đoán xác suất (qua hàm sigmoid) ---\n",
    "# predict_proba() trả về xác suất mỗi lớp (ví dụ [xác suất TrungBinh, xác suất Kha, xác suất Gioi])\n",
    "y_prob = model_lr.predict_proba(X_test)\n",
    "\n",
    "# Tạo DataFrame hiển thị\n",
    "df_sigmoid = pd.DataFrame(y_prob, columns=le.classes_)\n",
    "\n",
    "# Thêm cột nhãn dự đoán (kết quả cuối cùng)\n",
    "df_sigmoid['Dự đoán (Predict)'] = le.inverse_transform(y_pred_lr)\n",
    "\n",
    "# Hiển thị 10 kết quả đầu tiên\n",
    "print(\"📈 Xác suất dự đoán qua hàm Sigmoid (Logistic Function):\")\n",
    "display(df_sigmoid.head(10))\n"
   ]
  },
  {
   "cell_type": "code",
   "execution_count": null,
   "id": "9f4e0208-f20d-4261-aa0a-3112eaca34ba",
   "metadata": {},
   "outputs": [],
   "source": [
    "import numpy as np\n",
    "import matplotlib.pyplot as plt\n",
    "import pandas as pd\n",
    "\n",
    "# Giả sử X_test là mảng numpy, cột đầu tiên là \"Số giờ học\"\n",
    "# (Nếu bạn dùng DataFrame, đổi lại thành X_test[\"Hours_Study\"].values)\n",
    "hours = X_test[:, 0]\n",
    "\n",
    "# Tính xác suất dự đoán của từng lớp qua hàm sigmoid (model_lr.predict_proba())\n",
    "y_prob = model_lr.predict_proba(X_test)\n",
    "\n",
    "# Lấy danh sách tên lớp\n",
    "classes = le.classes_  # ví dụ ['TrungBinh', 'Kha', 'Gioi']\n",
    "\n",
    "# Sắp xếp theo số giờ học để vẽ đường mượt\n",
    "sorted_idx = np.argsort(hours)\n",
    "hours_sorted = hours[sorted_idx]\n",
    "y_prob_sorted = y_prob[sorted_idx]\n",
    "\n",
    "# Vẽ hàm sigmoid cho từng lớp\n",
    "plt.figure(figsize=(8,5))\n",
    "for i, label in enumerate(classes):\n",
    "    plt.plot(hours_sorted, y_prob_sorted[:, i], label=f'Xác suất {label}')\n",
    "\n",
    "# Vẽ ngưỡng phân loại (0.5)\n",
    "plt.axhline(0.5, color='red', linestyle='--', label='Ngưỡng 0.5')\n",
    "\n",
    "plt.title('Hàm Sigmoid – Mối quan hệ giữa số giờ học và học lực')\n",
    "plt.xlabel('Số giờ học mỗi ngày')\n",
    "plt.ylabel('Xác suất dự đoán')\n",
    "plt.legend()\n",
    "plt.grid(True)\n",
    "plt.show()\n"
   ]
  },
  {
   "cell_type": "code",
   "execution_count": null,
   "id": "9e95a46e-c90e-4b9c-9c1f-d71cf0a7df3d",
   "metadata": {
    "scrolled": true
   },
   "outputs": [],
   "source": [
    "import pandas as pd\n",
    "\n",
    "# Đọc file Excel\n",
    "df = pd.read_csv(\"students.csv\")\n",
    "df = df.dropna(subset=['Hours_Study'])\n",
    "\n",
    "\n",
    "print(df.isna().sum())\n",
    "\n",
    "# Xem vài dòng đầu\n",
    "print(df.head())\n",
    "\n",
    "from sklearn.linear_model import LogisticRegression\n",
    "from sklearn.model_selection import train_test_split\n",
    "from sklearn.preprocessing import StandardScaler, LabelEncoder\n",
    "import joblib\n",
    "\n",
    "# Giả sử bạn đã có DataFrame df\n",
    "X = df[['Hours_Study']]  # đầu vào: số giờ học\n",
    "y = df['Grade']           # đầu ra: học lực\n",
    "\n",
    "# Mã hóa nhãn\n",
    "le = LabelEncoder()\n",
    "y = le.fit_transform(y)\n",
    "\n",
    "# Chuẩn hóa dữ liệu\n",
    "scaler = StandardScaler()\n",
    "X_scaled = scaler.fit_transform(X)\n",
    "\n",
    "# Chia dữ liệu\n",
    "X_train, X_test, y_train, y_test = train_test_split(X_scaled, y, test_size=0.2, random_state=42)\n",
    "from sklearn.preprocessing import LabelEncoder, StandardScaler\n",
    "import joblib\n",
    "\n",
    "# -----------------------------\n",
    "# Mã hóa nhãn (LabelEncoder)\n",
    "# -----------------------------\n",
    "grade_enc = LabelEncoder()\n",
    "df['Grade'] = grade_enc.fit_transform(df['Grade'])\n",
    "\n",
    "# Huấn luyện mô hình Logistic Regression\n",
    "model = LogisticRegression()\n",
    "model.fit(X_train, y_train)\n",
    "\n",
    "# ✅ Lưu mô hình và scaler\n",
    "joblib.dump(model, \"student_model.pkl\")\n",
    "joblib.dump(scaler, \"scaler.pkl\")\n",
    "\n",
    "print(\"✅ Mô hình và bộ chuẩn hóa đã được lưu thành công!\")\n",
    "\n"
   ]
  },
  {
   "cell_type": "code",
   "execution_count": null,
   "id": "9a8bc979-4eab-46cd-8cdb-84b2bee899cd",
   "metadata": {},
   "outputs": [],
   "source": [
    "# --- Huấn luyện nhanh (nếu bạn chưa có model) ---\n",
    "import pandas as pd\n",
    "from sklearn.preprocessing import LabelEncoder, StandardScaler\n",
    "from sklearn.linear_model import LogisticRegression\n",
    "from sklearn.model_selection import train_test_split\n",
    "import joblib\n",
    "\n",
    "df = pd.read_csv(\"students.csv\")   # file bạn đã có\n",
    "# Xử lý NaN (an toàn)\n",
    "df['Hours_Study'] = df['Hours_Study'].fillna(df['Hours_Study'].mean())\n",
    "\n",
    "X = df[['Hours_Study']]\n",
    "y = df['Grade']\n",
    "\n",
    "# Mã hóa nhãn\n",
    "le = LabelEncoder()\n",
    "y_encoded = le.fit_transform(y)\n",
    "\n",
    "# Chuẩn hóa\n",
    "scaler = StandardScaler()\n",
    "X_scaled = scaler.fit_transform(X)\n",
    "\n",
    "# Chia train/test\n",
    "X_train, X_test, y_train, y_test = train_test_split(X_scaled, y_encoded, test_size=0.2, random_state=42)\n",
    "\n",
    "# Huấn luyện\n",
    "model = LogisticRegression(max_iter=1000, random_state=42)\n",
    "model.fit(X_train, y_train)\n"
   ]
  },
  {
   "cell_type": "markdown",
   "id": "b4488a0d-3671-4f10-bff7-7daa763c14ae",
   "metadata": {},
   "source": [
    "\n",
    "# 9️⃣ Lưu mô hình và scaler\n",
    "# -----------------------------\n",
    "joblib.dump(model, \"student_model.pkl\")\n",
    "joblib.dump(scaler, \"student_scaler.pkl\")\n",
    "joblib.dump(grade_enc, \"grade_encoder.pkl\")\n",
    "\n",
    "print(\"✅ Mô hình đã được huấn luyện và lưu thành công!\")\n"
   ]
  },
  {
   "cell_type": "code",
   "execution_count": null,
   "id": "453a784f-3b0b-4990-89ca-6a12d6e3b0fe",
   "metadata": {},
   "outputs": [],
   "source": [
    "pip install streamlit\n"
   ]
  },
  {
   "cell_type": "code",
   "execution_count": null,
   "id": "a7252bca-4391-4ead-ac81-8cdf900c45e3",
   "metadata": {},
   "outputs": [],
   "source": [
    "import streamlit as st\n",
    "import joblib\n",
    "import numpy as np\n",
    "\n",
    "# -----------------------------\n",
    "# 1️⃣ Tải mô hình và các bộ mã hóa đã lưu\n",
    "# -----------------------------\n",
    "model = joblib.load(\"student_model.pkl\")\n",
    "scaler = joblib.load(\"student_scaler.pkl\")\n",
    "grade_enc = joblib.load(\"grade_encoder.pkl\")\n",
    "\n",
    "st.set_page_config(page_title=\"Dự đoán học lực học sinh\", page_icon=\"🎓\")\n",
    "\n",
    "st.title(\"🎓 Ứng dụng Dự đoán Học lực Học sinh\")\n",
    "st.write(\"Nhập thông tin bên dưới để hệ thống dự đoán học lực của học sinh:\")\n",
    "\n",
    "# -----------------------------\n",
    "# 2️⃣ Giao diện nhập liệu\n",
    "# -----------------------------\n",
    "hours = st.number_input(\"🕒 Số giờ học mỗi ngày:\", min_value=0.0, max_value=24.0, value=5.0)\n",
    "previous = st.number_input(\"📘 Điểm trung bình trước đây:\", min_value=0.0, max_value=10.0, value=7.0)\n",
    "extracurricular = st.selectbox(\"🏀 Tham gia hoạt động ngoại khóa?\", [\"Yes\", \"No\"])\n",
    "sleep = st.number_input(\"💤 Số giờ ngủ mỗi ngày:\", min_value=0.0, max_value=24.0, value=7.0)\n",
    "sample_papers = st.number_input(\"📝 Số đề luyện tập:\", min_value=0, max_value=100, value=5)\n",
    "\n",
    "extra_val = 1 if extracurricular == \"Yes\" else 0\n",
    "input_data = np.array([[hours, previous, extra_val, sleep, sample_papers]])\n",
    "input_scaled = scaler.transform(input_data)\n",
    "\n",
    "# -----------------------------\n",
    "# 3️⃣ Dự đoán\n",
    "# -----------------------------\n",
    "if st.button(\"🔮 Dự đoán học lực\"):\n",
    "    prediction = model.predict(input_scaled)\n",
    "    grade = grade_enc.inverse_transform(prediction)[0]\n",
    "    st.success(f\"🎯 Kết quả dự đoán: **{grade}**\")\n",
    "\n",
    "st.caption(\"Made with ❤️ by Hiệu & ChatGPT\")\n",
    "\n"
   ]
  },
  {
   "cell_type": "code",
   "execution_count": null,
   "id": "4e9ffc33-19c4-4cdf-a81a-f4b3ea46b2d8",
   "metadata": {},
   "outputs": [],
   "source": []
  }
 ],
 "metadata": {
  "kernelspec": {
   "display_name": "Python 3 (ipykernel)",
   "language": "python",
   "name": "python3"
  },
  "language_info": {
   "codemirror_mode": {
    "name": "ipython",
    "version": 3
   },
   "file_extension": ".py",
   "mimetype": "text/x-python",
   "name": "python",
   "nbconvert_exporter": "python",
   "pygments_lexer": "ipython3",
   "version": "3.13.5"
  }
 },
 "nbformat": 4,
 "nbformat_minor": 5
}
